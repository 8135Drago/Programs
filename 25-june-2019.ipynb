{
 "cells": [
  {
   "cell_type": "code",
   "execution_count": 2,
   "metadata": {},
   "outputs": [
    {
     "name": "stdout",
     "output_type": "stream",
     "text": [
      "enter number of elements5\n",
      "enter an element2\n",
      "enter an element4\n",
      "enter an element6\n",
      "enter an element8\n",
      "enter an element9\n",
      "enter target element4\n",
      "the position is 1\n"
     ]
    }
   ],
   "source": [
    "l=[]\n",
    "def read(l,n):\n",
    "    for i in range(n):\n",
    "        e=int(input(\"enter an element\"))\n",
    "        l.append(e)\n",
    "    \n",
    "def search(s,l):\n",
    "    lo=0\n",
    "    u=n-1\n",
    "    i=1\n",
    "    f=0\n",
    "    while(i<=u):\n",
    "        i=(lo+(u-lo)//2)\n",
    "        if (s==l[i]):\n",
    "                print(\"the position is\",i)\n",
    "                f=1\n",
    "                break\n",
    "        elif (l[i]<s):\n",
    "            lo=i+1\n",
    "        else:\n",
    "            u=i+1\n",
    "        if(lo>=u and f==0):\n",
    "            print(\"the number not found\")\n",
    "            break\n",
    "            \n",
    "            \n",
    "n=int(input(\"enter number of elements\"))\n",
    "read(l,n)\n",
    "s=int(input(\"enter target element\"))\n",
    "search(s,l)\n"
   ]
  },
  {
   "cell_type": "code",
   "execution_count": 4,
   "metadata": {},
   "outputs": [
    {
     "name": "stdout",
     "output_type": "stream",
     "text": [
      "enter number of elements5\n",
      "enter an element5\n",
      "enter an element8\n",
      "enter an element2\n",
      "enter an element1\n",
      "enter an element0\n",
      "input= [5, 8, 2, 1, 0]\n",
      "output= [0, 1, 2, 5, 8]\n"
     ]
    }
   ],
   "source": [
    "l=[]\n",
    "def read(l,n):\n",
    "    for i in range(n):\n",
    "        e=int(input(\"enter an element\"))\n",
    "        l.append(e)\n",
    "    print(\"input=\",l)\n",
    "def sort(l,n):\n",
    "    for i in range(n):\n",
    "        for j in range(n-i):\n",
    "            if l[j]>l[j+1]:\n",
    "                l[j],l[j+1]=l[j+1],l[j]\n",
    "    print(\"output=\",l)\n",
    "        \n",
    "n=int(input(\"enter number of elements\"))\n",
    "read(l,n)\n",
    "sort(l,n-1)"
   ]
  },
  {
   "cell_type": "code",
   "execution_count": 5,
   "metadata": {},
   "outputs": [
    {
     "name": "stdout",
     "output_type": "stream",
     "text": [
      "enter number of elements5\n",
      "enter an element5\n",
      "enter an element2\n",
      "enter an element8\n",
      "enter an element1\n",
      "enter an element0\n",
      "input= [5, 2, 8, 1, 0]\n",
      "output= [0, 1, 2, 5, 8]\n",
      "enter target element5\n",
      "the position is 3\n"
     ]
    }
   ],
   "source": [
    "l=[]\n",
    "def read(l,n):\n",
    "    for i in range(n):\n",
    "        e=int(input(\"enter an element\"))\n",
    "        l.append(e)\n",
    "    print(\"input=\",l)\n",
    "def sort(l,n):\n",
    "    for i in range(n):\n",
    "        for j in range(n-i):\n",
    "            if l[j]>l[j+1]:\n",
    "                l[j],l[j+1]=l[j+1],l[j]\n",
    "    print(\"output=\",l)\n",
    "def search(s,l):\n",
    "    lo=0\n",
    "    u=n-1\n",
    "    i=1\n",
    "    f=0\n",
    "    while(i<=u):\n",
    "        i=(lo+(u-lo)//2)\n",
    "        if (s==l[i]):\n",
    "                print(\"the position is\",i)\n",
    "                f=1\n",
    "                break\n",
    "        elif (l[i]<s):\n",
    "            lo=i+1\n",
    "        else:\n",
    "            u=i+1\n",
    "        if(lo>=u and f==0):\n",
    "            print(\"the number not found\")\n",
    "            break\n",
    "        \n",
    "n=int(input(\"enter number of elements\"))\n",
    "read(l,n)\n",
    "sort(l,n-1)\n",
    "s=int(input(\"enter target element\"))\n",
    "search(s,l)"
   ]
  },
  {
   "cell_type": "code",
   "execution_count": 7,
   "metadata": {},
   "outputs": [
    {
     "name": "stdout",
     "output_type": "stream",
     "text": [
      "enter number of elements3\n",
      "enter an element5\n",
      "enter an element2\n",
      "enter an element1\n",
      "input= [5, 2, 1]\n",
      "output= [1, 2, 5]\n"
     ]
    }
   ],
   "source": [
    "l=[]\n",
    "def read(l,n):\n",
    "    for i in range(n):\n",
    "        e=int(input(\"enter an element\"))\n",
    "        l.append(e)\n",
    "    print(\"input=\",l)\n",
    "    \n",
    "n=int(input(\"enter number of elements\"))\n",
    "read(l,n)\n",
    "\n",
    "l.sort()\n",
    "\n",
    "print(\"output=\",l)\n"
   ]
  },
  {
   "cell_type": "code",
   "execution_count": 8,
   "metadata": {},
   "outputs": [
    {
     "name": "stdout",
     "output_type": "stream",
     "text": [
      "hello\n",
      "Hello\n",
      "strings\n",
      "        in python\n",
      "      work\n"
     ]
    }
   ],
   "source": [
    "s1=\"hello\"\n",
    "s2='Hello'\n",
    "s3=\"\"\"strings\n",
    "        in python\n",
    "      work\"\"\"\n",
    "\n",
    "print(s1)\n",
    "print(s2)\n",
    "print(s3)\n"
   ]
  },
  {
   "cell_type": "code",
   "execution_count": 9,
   "metadata": {},
   "outputs": [
    {
     "name": "stdout",
     "output_type": "stream",
     "text": [
      "enter a stringabcd\n",
      "s[0]= a\n",
      "s[-1]= d\n",
      "s[1:6]= bcd\n",
      "s[:6]= abcd\n",
      "s[::2]= ac\n",
      "s[1:-1]= bc\n",
      "s[::-1]= dcba\n"
     ]
    }
   ],
   "source": [
    "s=input(\"enter a string\")\n",
    "print(\"s[0]=\",s[0])\n",
    "print(\"s[-1]=\",s[-1])\n",
    "print(\"s[1:6]=\",s[1:6])\n",
    "print(\"s[:6]=\",s[:6])\n",
    "print(\"s[::2]=\",s[::2])\n",
    "print(\"s[1:-1]=\",s[1:-1])\n",
    "print(\"s[::-1]=\",s[::-1])"
   ]
  },
  {
   "cell_type": "code",
   "execution_count": 10,
   "metadata": {},
   "outputs": [
    {
     "name": "stdout",
     "output_type": "stream",
     "text": [
      "enter a stringabba\n",
      "is a palindrome\n"
     ]
    }
   ],
   "source": [
    "def pal(s):\n",
    "    if s==s[::-1]:\n",
    "        print(\"is a palindrome\")\n",
    "    else:\n",
    "        print(\"not palindrome\")\n",
    "s=input(\"enter a string\")\n",
    "pal(s)"
   ]
  },
  {
   "cell_type": "code",
   "execution_count": 11,
   "metadata": {},
   "outputs": [
    {
     "name": "stdout",
     "output_type": "stream",
     "text": [
      "enter a number10\n",
      "2\n"
     ]
    }
   ],
   "source": [
    "def count(n):\n",
    "    return(len(str(n)))\n",
    "n=int(input(\"enter a number\"))\n",
    "f=count(n)\n",
    "\n",
    "print(f)"
   ]
  },
  {
   "cell_type": "code",
   "execution_count": 13,
   "metadata": {},
   "outputs": [
    {
     "name": "stdout",
     "output_type": "stream",
     "text": [
      "enter a stringAcCCv\n",
      "A C C 3\n"
     ]
    }
   ],
   "source": [
    "def countuc(s):\n",
    "    c=0\n",
    "    for i in s:\n",
    "        if i.isupper():\n",
    "            c=c+1\n",
    "            print(i,end=\" \")\n",
    "    return c\n",
    "\n",
    "s=input(\"enter a string\")\n",
    "print(countuc(s))"
   ]
  },
  {
   "cell_type": "code",
   "execution_count": 14,
   "metadata": {},
   "outputs": [
    {
     "name": "stdout",
     "output_type": "stream",
     "text": [
      "enter a stringAvvbs\n",
      "vvbs4\n"
     ]
    }
   ],
   "source": [
    "def countuc(s):\n",
    "    c=0\n",
    "    for i in s:\n",
    "        if i.islower():\n",
    "            c=c+1\n",
    "            print(i,end=\"\")\n",
    "    return c\n",
    "\n",
    "s=input(\"enter a string\")\n",
    "print(countuc(s))"
   ]
  },
  {
   "cell_type": "code",
   "execution_count": 15,
   "metadata": {},
   "outputs": [
    {
     "name": "stdout",
     "output_type": "stream",
     "text": [
      "enter a stringasdf\n",
      "4\n"
     ]
    }
   ],
   "source": [
    "def size(s):\n",
    "    return len(s)\n",
    "s=input(\"enter a string\")\n",
    "print(size(s))"
   ]
  },
  {
   "cell_type": "code",
   "execution_count": 16,
   "metadata": {},
   "outputs": [
    {
     "name": "stdout",
     "output_type": "stream",
     "text": [
      "enter a stringAbcD\n",
      "AD2\n"
     ]
    }
   ],
   "source": [
    "def cuc(s):\n",
    "    c=0\n",
    "    l=list(s)\n",
    "    for x in range(len(l)):\n",
    "        if ord(l[x])>=65 and ord(l[x])<=90:\n",
    "            c=c+1\n",
    "            print(l[x],end=\"\")\n",
    "    return c\n",
    "\n",
    "s=input(\"enter a string\")\n",
    "print(cuc(s))\n"
   ]
  },
  {
   "cell_type": "code",
   "execution_count": 19,
   "metadata": {},
   "outputs": [
    {
     "name": "stdout",
     "output_type": "stream",
     "text": [
      "enter a string154\n",
      "1543\n"
     ]
    }
   ],
   "source": [
    "def dig(s):\n",
    "    c=0\n",
    "    l=list(s)\n",
    "    for x in range(len(l)):\n",
    "        if ord(l[x])>=48 and ord(l[x])<=57:\n",
    "            c=c+1\n",
    "            print(l[x],end=\"\")\n",
    "    return c\n",
    "\n",
    "s=input(\"enter a string\")\n",
    "print(dig(s))"
   ]
  },
  {
   "cell_type": "code",
   "execution_count": 18,
   "metadata": {},
   "outputs": [
    {
     "name": "stdout",
     "output_type": "stream",
     "text": [
      "enter a stringabcd1234\n",
      "12344\n"
     ]
    }
   ],
   "source": [
    "def countuc(s):\n",
    "    c=0\n",
    "    for i in s:\n",
    "        if i.isnumeric():\n",
    "            c=c+1\n",
    "            print(i,end=\"\")\n",
    "    return c\n",
    "\n",
    "s=input(\"enter a string\")\n",
    "print(countuc(s))"
   ]
  },
  {
   "cell_type": "code",
   "execution_count": 20,
   "metadata": {},
   "outputs": [
    {
     "name": "stdout",
     "output_type": "stream",
     "text": [
      "enter a stringasd123\n",
      "123\n",
      "sum= 6\n",
      "number of digits= 3\n"
     ]
    }
   ],
   "source": [
    "def dig(s):\n",
    "    c=0\n",
    "    l=list(s)\n",
    "    su=0\n",
    "    for x in range(len(l)):\n",
    "        if ord(l[x])>=48 and ord(l[x])<=57:\n",
    "            c=c+1\n",
    "            print(l[x],end=\"\")\n",
    "            su=su+int(l[x])\n",
    "                \n",
    "    print(\"\\nsum=\",su)\n",
    "    return c\n",
    "\n",
    "s=input(\"enter a string\")\n",
    "print(\"number of digits=\",dig(s))"
   ]
  },
  {
   "cell_type": "code",
   "execution_count": 21,
   "metadata": {},
   "outputs": [
    {
     "name": "stdout",
     "output_type": "stream",
     "text": [
      "enter a string5482asd\n",
      "5482\n",
      "sum= 19\n",
      "number of digits= 4\n"
     ]
    }
   ],
   "source": [
    "def countuc(s):\n",
    "    c=0\n",
    "    su=0\n",
    "    for i in s:\n",
    "        if i.isnumeric():\n",
    "            c=c+1\n",
    "            print(i,end=\"\")\n",
    "            su=su+int(i)\n",
    "    print(\"\\nsum=\",su)\n",
    "    return c\n",
    "\n",
    "s=input(\"enter a string\")\n",
    "print(\"number of digits=\",countuc(s))"
   ]
  },
  {
   "cell_type": "code",
   "execution_count": 23,
   "metadata": {},
   "outputs": [
    {
     "name": "stdout",
     "output_type": "stream",
     "text": [
      "enter a string1246asd\n",
      "\n",
      "sum= 12\n"
     ]
    }
   ],
   "source": [
    "def dig(s):\n",
    "    c=0\n",
    "    l=list(s)\n",
    "    su=0\n",
    "    for x in range(len(l)):\n",
    "        if ord(l[x])>=48 and ord(l[x])<=57 :\n",
    "            if (int(l[x])-48)%2==0:\n",
    "                su=su+int(l[x])\n",
    "                \n",
    "    print(\"\\nsum=\",su)\n",
    "   \n",
    "s=input(\"enter a string\")\n",
    "dig(s)"
   ]
  },
  {
   "cell_type": "code",
   "execution_count": 24,
   "metadata": {},
   "outputs": [
    {
     "name": "stdout",
     "output_type": "stream",
     "text": [
      "enter a string1462asd\n",
      "462\n",
      "sum= 12\n",
      "number of digits= 3\n"
     ]
    }
   ],
   "source": [
    "def countuc(s):\n",
    "    c=0\n",
    "    su=0\n",
    "    for i in s:\n",
    "        if i.isnumeric():\n",
    "            if((int(i)%2)==0):\n",
    "                c=c+1\n",
    "                print(i,end=\"\")\n",
    "                su=su+int(i)\n",
    "    print(\"\\nsum=\",su)\n",
    "    return c\n",
    "\n",
    "s=input(\"enter a string\")\n",
    "print(\"number of digits=\",countuc(s))"
   ]
  },
  {
   "cell_type": "code",
   "execution_count": 25,
   "metadata": {},
   "outputs": [
    {
     "name": "stdout",
     "output_type": "stream",
     "text": [
      "enter a string12354assd\n",
      "12354ASSD"
     ]
    }
   ],
   "source": [
    "def cuc(s):\n",
    "    c=0\n",
    "    k=[]\n",
    "    l=list(s)\n",
    "    for x in range(len(l)):\n",
    "        if ord(l[x])>=65 and ord(l[x])<=90:\n",
    "            l[x]=ord(l[x])+32\n",
    "            k.append(chr(l[x]))\n",
    "        elif ord(l[x])>=97 and ord(l[x])<=122:\n",
    "            l[x]=ord(l[x])-32\n",
    "            k.append(chr(l[x]))\n",
    "        else:\n",
    "            k.append(l[x])\n",
    "    for x in range(len(k)):\n",
    "        print(k[x],end=\"\")\n",
    "s=input(\"enter a string\")\n",
    "cuc(s)"
   ]
  },
  {
   "cell_type": "code",
   "execution_count": 27,
   "metadata": {},
   "outputs": [
    {
     "name": "stdout",
     "output_type": "stream",
     "text": [
      "enter a stringpython is cool\n",
      "enter the word number2\n",
      "\u0000IS"
     ]
    }
   ],
   "source": [
    "def cuc(s,n):\n",
    "    c=0\n",
    "    k=[]\n",
    "    l=list(s)\n",
    "    f=0\n",
    "    fl=0\n",
    "    for x in range(len(l)):\n",
    "        if ord(l[x])==32 :\n",
    "            f=f+1\n",
    "        if f==n-1 or fl==1:\n",
    "            fl==1\n",
    "            l[x]=ord(l[x])-32\n",
    "            k.append(chr(l[x]))\n",
    "        if f==n:\n",
    "            break\n",
    "    for x in range(len(k)):\n",
    "        print(k[x],end=\"\")\n",
    "            \n",
    "s=input(\"enter a string\")\n",
    "n=int(input(\"enter the word number\"))\n",
    "cuc(s,n)"
   ]
  },
  {
   "cell_type": "code",
   "execution_count": null,
   "metadata": {},
   "outputs": [],
   "source": []
  }
 ],
 "metadata": {
  "kernelspec": {
   "display_name": "Python 3",
   "language": "python",
   "name": "python3"
  },
  "language_info": {
   "codemirror_mode": {
    "name": "ipython",
    "version": 3
   },
   "file_extension": ".py",
   "mimetype": "text/x-python",
   "name": "python",
   "nbconvert_exporter": "python",
   "pygments_lexer": "ipython3",
   "version": "3.7.3"
  }
 },
 "nbformat": 4,
 "nbformat_minor": 2
}
