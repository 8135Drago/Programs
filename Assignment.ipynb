{
 "cells": [
  {
   "cell_type": "code",
   "execution_count": 1,
   "metadata": {},
   "outputs": [
    {
     "name": "stdout",
     "output_type": "stream",
     "text": [
      "enter choice4\n",
      "enter file name.extensionassign.txt\n",
      "no.of special charectes are 3\n",
      "enter choice0\n"
     ]
    }
   ],
   "source": [
    "def cf(name):\n",
    "    f = open(name,\"w\")\n",
    "    l = int(input(\"enter limit i.e. no.of lines\"))\n",
    "    for i in range(l):\n",
    "        e = input(\"enter %d line:\\n\" % i)\n",
    "        f.write(\"%s \\n\" % e)\n",
    "    print(\"file is successfully created\")\n",
    "    f.close()\n",
    "def cc(name):\n",
    "    cnt = 0\n",
    "    f = open(name,\"r\")\n",
    "    if f.mode == \"r\":\n",
    "        x = f.read()\n",
    "        li = list(x)\n",
    "        for i in (li):\n",
    "            if i.isnumeric():\n",
    "                cnt += 1\n",
    "    print(\"no.of digits are %d\" % cnt)\n",
    "def uc(name):\n",
    "    c = 0\n",
    "    f = open(name,\"r\")\n",
    "    if f.mode == \"r\":\n",
    "        x = f.read()\n",
    "        lis = list(x)\n",
    "        for j in lis:\n",
    "            if ord(j)>=97 and ord(j)<=122:\n",
    "                c = c+1\n",
    "    print(\"no.of lowercase letters = %d\" % c)\n",
    "def sc(name):\n",
    "    cnt = 0\n",
    "    f = open(name,\"r\")\n",
    "    if f.mode == \"r\":\n",
    "        x = f.read()\n",
    "        li = list(x)\n",
    "        for i in (li):\n",
    "            if not i.isnumeric() and not i.isupper() and not i.islower() and not i.isspace() and ord(i)!=10:\n",
    "                cnt += 1\n",
    "    print(\"no.of special charectes are %d\" % cnt)\n",
    "x = -1\n",
    "while x!=0:\n",
    "    x = int(input(\"enter choice\"))\n",
    "    if x == 1:\n",
    "        name = input(\"enter file name.extension\")\n",
    "        cf(name)\n",
    "    elif x == 2:\n",
    "        name = input(\"enter file name.extension\")\n",
    "        cc(name)\n",
    "    elif x == 3:\n",
    "        name = input(\"enter file name.extension\")\n",
    "        uc(name)\n",
    "    elif x == 4:\n",
    "        name = input(\"enter file name.extension\")\n",
    "        sc(name)"
   ]
  },
  {
   "cell_type": "code",
   "execution_count": 2,
   "metadata": {},
   "outputs": [
    {
     "name": "stdout",
     "output_type": "stream",
     "text": [
      "enter file namea1.txt\n",
      "enter your nameVidhatha\n",
      "enter mail id8135rack@gmail.com\n",
      "enter a phone number6301169806\n"
     ]
    }
   ],
   "source": [
    "import re\n",
    "def ei(m):\n",
    "    p = \"^[0-9a-zA-Z][0-9a-zA-Z_.]{2,13}[0-9a-zA-Z][@][0-9a-z]{3,18}[.][a-z]{2,4}$\"\n",
    "    if re.match(p,m):\n",
    "        return True\n",
    "    else:\n",
    "        return False\n",
    "\n",
    "def pv(num):\n",
    "    p = \"^[6-9][0-9]{9}$|^[0][6-9][0-9]{9}$|^[+][9][1][6-9][0-9]{9}$\"\n",
    "    num = str(num)\n",
    "    if re.match(p,num):\n",
    "         return True\n",
    "    else:\n",
    "        return False\n",
    "\n",
    "def cf(name):\n",
    "    f = open(name,\"w\")\n",
    "    n = input(\"enter your name\")\n",
    "    f.write(\"Name = %s \\n\" % n)\n",
    "    m = input(\"enter mail id\")\n",
    "    ei(m)\n",
    "    if ei(m) is True:\n",
    "        f.write(\"Mail = %s \\n\" % m)\n",
    "    else:\n",
    "        print(\"error\")\n",
    "    num = input(\"enter a phone number\")\n",
    "    pv(num)\n",
    "    if pv(num) is True:\n",
    "        f.write(\"contact = %s \\n\" % num)\n",
    "    else:\n",
    "        print(\"error\")\n",
    "    f.close()\n",
    "name = input(\"enter file name\")\n",
    "cf(name)"
   ]
  },
  {
   "cell_type": "code",
   "execution_count": null,
   "metadata": {},
   "outputs": [],
   "source": []
  }
 ],
 "metadata": {
  "kernelspec": {
   "display_name": "Python 3",
   "language": "python",
   "name": "python3"
  },
  "language_info": {
   "codemirror_mode": {
    "name": "ipython",
    "version": 3
   },
   "file_extension": ".py",
   "mimetype": "text/x-python",
   "name": "python",
   "nbconvert_exporter": "python",
   "pygments_lexer": "ipython3",
   "version": "3.7.3"
  }
 },
 "nbformat": 4,
 "nbformat_minor": 2
}
