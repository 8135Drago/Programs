{
 "cells": [
  {
   "cell_type": "code",
   "execution_count": 1,
   "metadata": {},
   "outputs": [
    {
     "name": "stdout",
     "output_type": "stream",
     "text": [
      "True\n"
     ]
    }
   ],
   "source": [
    "x=10\n",
    "if (x<=15):\n",
    "    print(\"True\")"
   ]
  },
  {
   "cell_type": "code",
   "execution_count": 3,
   "metadata": {},
   "outputs": [
    {
     "name": "stdout",
     "output_type": "stream",
     "text": [
      "enter a number15\n",
      "enter another number20\n",
      "15 is less than 20\n"
     ]
    }
   ],
   "source": [
    "a=input(\"enter a number\")\n",
    "b=input(\"enter another number\")\n",
    "if(a>b):\n",
    "    print(a + \" is greater than \" + b)\n",
    "if(a==b):\n",
    "    print(a + \" is equals to \" + b)\n",
    "else:\n",
    "    print(a + \" is less than \" + b)"
   ]
  },
  {
   "cell_type": "code",
   "execution_count": 5,
   "metadata": {},
   "outputs": [
    {
     "name": "stdout",
     "output_type": "stream",
     "text": [
      "enter a number15\n",
      "enter another number20\n",
      "10.0\n"
     ]
    }
   ],
   "source": [
    "a=int(input(\"enter a number\"))\n",
    "b=int(input(\"enter another number\"))\n",
    "if(a>b):\n",
    "    c=a/2\n",
    "    print(c)\n",
    "if(a==b):\n",
    "    c=a+b\n",
    "    print(c)\n",
    "else:\n",
    "    c=b/2\n",
    "    print(c)"
   ]
  },
  {
   "cell_type": "code",
   "execution_count": 9,
   "metadata": {},
   "outputs": [
    {
     "name": "stdout",
     "output_type": "stream",
     "text": [
      "enter a number15\n",
      "15  is divisible by both 3 and 5\n"
     ]
    }
   ],
   "source": [
    "x=int(input(\"enter a number\"))\n",
    "if (x%3==0 & x%5==0):\n",
    "    print(x ,\" is divisible by both 3 and 5\")\n",
    "elif (x%3==0):\n",
    "    print(x ,\" is only divisible by 3\")\n",
    "elif (x%5==0):\n",
    "    print(x ,\" is only divisible by 5\")\n",
    "else:\n",
    "    print(x ,\" is not divisible by both 3 and 5\")"
   ]
  },
  {
   "cell_type": "code",
   "execution_count": 159,
   "metadata": {},
   "outputs": [
    {
     "name": "stdout",
     "output_type": "stream",
     "text": [
      "enter a number153\n",
      "3\n",
      "5\n",
      "1\n",
      "3\n"
     ]
    }
   ],
   "source": [
    "num=int(input(\"enter a number\"))\n",
    "c=0\n",
    "while(num!=0):\n",
    "    b=num%10\n",
    "    num=(num-b)//10\n",
    "    print(b)\n",
    "    c+=1\n",
    "print(c)"
   ]
  },
  {
   "cell_type": "code",
   "execution_count": 134,
   "metadata": {},
   "outputs": [
    {
     "name": "stdout",
     "output_type": "stream",
     "text": [
      "enter a number153\n",
      "3\n",
      "5\n",
      "1\n",
      "3\n"
     ]
    }
   ],
   "source": [
    "def digi(n,c):\n",
    "    b=n%10\n",
    "    n=(n-b)//10\n",
    "    print(b)\n",
    "    c+=1\n",
    "    if (n>0):\n",
    "        digi(n,c)\n",
    "    else:\n",
    "        print(c)\n",
    "c=0\n",
    "n=int(input(\"enter a number\"))\n",
    "a=digi(n,c)"
   ]
  },
  {
   "cell_type": "code",
   "execution_count": 24,
   "metadata": {},
   "outputs": [
    {
     "name": "stdout",
     "output_type": "stream",
     "text": [
      "enter a number12\n",
      "positive\n"
     ]
    }
   ],
   "source": [
    "num=int(input(\"enter a number\"))\n",
    "if(num>0):\n",
    "    print(\"positive\")\n",
    "elif(num<0):\n",
    "    print(\"negative\")\n",
    "else:\n",
    "    print(\"zero\")"
   ]
  },
  {
   "cell_type": "code",
   "execution_count": 35,
   "metadata": {},
   "outputs": [
    {
     "name": "stdout",
     "output_type": "stream",
     "text": [
      "enter lower limit1\n",
      "enter upper limit10\n",
      "10\n",
      "9\n",
      "8\n",
      "7\n",
      "6\n",
      "5\n",
      "4\n",
      "3\n",
      "2\n",
      "1\n"
     ]
    }
   ],
   "source": [
    "ll=int(input(\"enter lower limit\"))\n",
    "ul=int(input(\"enter upper limit\"))\n",
    "while(ul>=ll):\n",
    "    print(ul)\n",
    "    ul-=1"
   ]
  },
  {
   "cell_type": "code",
   "execution_count": 39,
   "metadata": {},
   "outputs": [
    {
     "name": "stdout",
     "output_type": "stream",
     "text": [
      "enter lower limit1\n",
      "enter upper limit100\n",
      "2550\n"
     ]
    }
   ],
   "source": [
    "ll=int(input(\"enter lower limit\"))\n",
    "ul=int(input(\"enter upper limit\"))\n",
    "sum=0\n",
    "while(ll<=ul):\n",
    "    if(ll%2==0):\n",
    "        sum=sum+ll\n",
    "    ll+=1    \n",
    "print(sum)    "
   ]
  },
  {
   "cell_type": "code",
   "execution_count": 50,
   "metadata": {},
   "outputs": [
    {
     "name": "stdout",
     "output_type": "stream",
     "text": [
      "enter lower limit1\n",
      "enter upper limit100\n",
      "2550\n"
     ]
    }
   ],
   "source": [
    "def digi(x,y,c):\n",
    "    if(x%2==0):\n",
    "        c=c+x\n",
    "    x+=1    \n",
    "    if (x<=y):\n",
    "        digi(x,y,c)\n",
    "    else:\n",
    "        print(c)\n",
    "c=0\n",
    "x=int(input(\"enter lower limit\"))\n",
    "y=int(input(\"enter upper limit\"))\n",
    "a=digi(x,y,c)"
   ]
  },
  {
   "cell_type": "code",
   "execution_count": 58,
   "metadata": {},
   "outputs": [
    {
     "name": "stdout",
     "output_type": "stream",
     "text": [
      "enter a number1889\n",
      "8\n",
      "8\n",
      "16\n"
     ]
    }
   ],
   "source": [
    "num=int(input(\"enter a number\"))\n",
    "c=0\n",
    "while(num!=0):\n",
    "    b=num%10\n",
    "    num=(num-b)//10\n",
    "    if(b%2==0 & b!=1):\n",
    "        print(b)\n",
    "        c+=b\n",
    "print(c)"
   ]
  },
  {
   "cell_type": "code",
   "execution_count": 59,
   "metadata": {},
   "outputs": [
    {
     "name": "stdout",
     "output_type": "stream",
     "text": [
      "enter a number1889\n",
      "8\n",
      "8\n",
      "16\n"
     ]
    }
   ],
   "source": [
    "def digi(n,c):\n",
    "    b=n%10\n",
    "    n=(n-b)//10\n",
    "    if(b%2==0 & b!=1):\n",
    "        print(b)\n",
    "        c+=b\n",
    "    if (n>0):\n",
    "        digi(n,c)\n",
    "    else:\n",
    "        print(c)\n",
    "c=0\n",
    "n=int(input(\"enter a number\"))\n",
    "a=digi(n,c)"
   ]
  },
  {
   "cell_type": "code",
   "execution_count": 61,
   "metadata": {},
   "outputs": [
    {
     "name": "stdout",
     "output_type": "stream",
     "text": [
      "enter size5\n",
      "enter a number1\n",
      "enter a number2\n",
      "enter a number3\n",
      "enter a number4\n",
      "enter a number5\n",
      "sum =  15\n"
     ]
    }
   ],
   "source": [
    "size=int(input(\"enter size\"))\n",
    "sum=0\n",
    "while(size!=0):\n",
    "    num=int(input(\"enter a number\"))\n",
    "    sum = sum + num\n",
    "    size-=1\n",
    "print(\"sum = \" , sum)"
   ]
  },
  {
   "cell_type": "code",
   "execution_count": 69,
   "metadata": {},
   "outputs": [
    {
     "name": "stdout",
     "output_type": "stream",
     "text": [
      "enter size3\n",
      "enter a number1\n",
      "enter a number2\n",
      "enter a number3\n",
      "sum =  6\n"
     ]
    }
   ],
   "source": [
    "def ans(size,sum):\n",
    "    if(size>0):\n",
    "        num = int(input(\"enter a number\"))\n",
    "        sum = sum + num\n",
    "        size-=1    \n",
    "        ans(size,sum)\n",
    "    else:\n",
    "        print(\"sum = \" , sum)\n",
    "    \n",
    "sum=0\n",
    "size=int(input(\"enter size\"))\n",
    "a = ans(size,sum)"
   ]
  },
  {
   "cell_type": "code",
   "execution_count": 71,
   "metadata": {},
   "outputs": [
    {
     "name": "stdout",
     "output_type": "stream",
     "text": [
      "enter a number145\n",
      "five\n",
      "four\n",
      "one\n",
      "3\n"
     ]
    }
   ],
   "source": [
    "num=int(input(\"enter a number\"))\n",
    "c=0\n",
    "while(num!=0):\n",
    "    b=num%10\n",
    "    num=(num-b)//10\n",
    "    if(b>=0):\n",
    "        if(b==1):\n",
    "            print(\"one\")\n",
    "        elif(b==2):\n",
    "            print(\"two\")\n",
    "        elif(b==3):\n",
    "            print(\"three\")\n",
    "        elif(b==4):\n",
    "            print(\"four\")\n",
    "        elif(b==5):\n",
    "            print(\"five\")\n",
    "        elif(b==6):\n",
    "            print(\"six\")\n",
    "        elif(b==7):\n",
    "            print(\"seven\")\n",
    "        elif(b==8):\n",
    "            print(\"eight\")\n",
    "        elif(b==9):\n",
    "            print(\"nine\")\n",
    "        elif(b==0):\n",
    "            print(\"zero\")\n",
    "        c+=1\n",
    "print(c)"
   ]
  },
  {
   "cell_type": "code",
   "execution_count": 72,
   "metadata": {},
   "outputs": [
    {
     "name": "stdout",
     "output_type": "stream",
     "text": [
      "enter a number1889\n",
      "nine\n",
      "eight\n",
      "eight\n",
      "one\n",
      "4\n"
     ]
    }
   ],
   "source": [
    "def digi(n,c):\n",
    "    b=n%10\n",
    "    n=(n-b)//10\n",
    "    if(b>=0):\n",
    "        if(b==1):\n",
    "            print(\"one\")\n",
    "        elif(b==2):\n",
    "            print(\"two\")\n",
    "        elif(b==3):\n",
    "            print(\"three\")\n",
    "        elif(b==4):\n",
    "            print(\"four\")\n",
    "        elif(b==5):\n",
    "            print(\"five\")\n",
    "        elif(b==6):\n",
    "            print(\"six\")\n",
    "        elif(b==7):\n",
    "            print(\"seven\")\n",
    "        elif(b==8):\n",
    "            print(\"eight\")\n",
    "        elif(b==9):\n",
    "            print(\"nine\")\n",
    "        elif(b==0):\n",
    "            print(\"zero\")\n",
    "        c+=1\n",
    "    if (n>0):\n",
    "        digi(n,c)\n",
    "    else:\n",
    "        print(c)\n",
    "c=0\n",
    "n=int(input(\"enter a number\"))\n",
    "a=digi(n,c)"
   ]
  },
  {
   "cell_type": "code",
   "execution_count": 74,
   "metadata": {},
   "outputs": [
    {
     "name": "stdout",
     "output_type": "stream",
     "text": [
      "enter limit10\n",
      "30\n"
     ]
    }
   ],
   "source": [
    "limit = int(input(\"enter limit\"))\n",
    "i=1\n",
    "sum = 0\n",
    "while(limit!=0):\n",
    "    if(i%2==0 & i!=1):\n",
    "        sum = sum + i\n",
    "    i+=1\n",
    "    limit-=1\n",
    "print(sum)"
   ]
  },
  {
   "cell_type": "code",
   "execution_count": 77,
   "metadata": {},
   "outputs": [
    {
     "name": "stdout",
     "output_type": "stream",
     "text": [
      "enter limit10\n",
      "sum =  30\n"
     ]
    }
   ],
   "source": [
    "def ans(size,sum,num):\n",
    "    if(size>0):\n",
    "        if(num%2==0 & num!=1):\n",
    "            sum = sum + num\n",
    "        size-=1 \n",
    "        num+=1\n",
    "        ans(size,sum,num)\n",
    "    else:\n",
    "        print(\"sum = \" , sum)\n",
    "num=1    \n",
    "sum=0\n",
    "size=int(input(\"enter limit\"))\n",
    "a = ans(size,sum,num)"
   ]
  },
  {
   "cell_type": "code",
   "execution_count": 90,
   "metadata": {},
   "outputs": [
    {
     "name": "stdout",
     "output_type": "stream",
     "text": [
      "enter the number to count2\n",
      "enter lower limit120\n",
      "enter upper limit220\n",
      "40\n"
     ]
    }
   ],
   "source": [
    "num = int(input(\"enter the number to count\"))\n",
    "ll = int(input(\"enter lower limit\"))\n",
    "ul = int(input(\"enter upper limit\"))\n",
    "c=0\n",
    "while(ll!=ul):\n",
    "    n=ll\n",
    "    while(n!=0):\n",
    "        b = n%10\n",
    "        n = (n-b)//10\n",
    "        if(b==num):\n",
    "            c+=1\n",
    "    ll+=1\n",
    "print(c)"
   ]
  },
  {
   "cell_type": "code",
   "execution_count": 127,
   "metadata": {},
   "outputs": [
    {
     "name": "stdout",
     "output_type": "stream",
     "text": [
      "enter the number to count6\n",
      "enter lower limit60\n",
      "enter upper limit65\n",
      "5\n"
     ]
    }
   ],
   "source": [
    "c=0\n",
    "def loop(n,num):\n",
    "    b=n%10\n",
    "    n=(n-b)//10\n",
    "    if(b==num):\n",
    "        global c\n",
    "        c=c+1\n",
    "    if(n>0):\n",
    "        loop(n,num)\n",
    "def digi(x,y,num):\n",
    "    global c\n",
    "    if(x<y):\n",
    "        n=x\n",
    "        loop(n,num)\n",
    "        x+=1\n",
    "        digi(x,y,num)\n",
    "    else:\n",
    "        print(c)\n",
    "num = int(input(\"enter the number to count\"))\n",
    "ll = int(input(\"enter lower limit\"))\n",
    "ul = int(input(\"enter upper limit\"))\n",
    "a = digi(ll,ul,num)"
   ]
  },
  {
   "cell_type": "code",
   "execution_count": 135,
   "metadata": {},
   "outputs": [
    {
     "name": "stdout",
     "output_type": "stream",
     "text": [
      "enter a number5\n",
      "120\n"
     ]
    }
   ],
   "source": [
    "def fac(n,m):\n",
    "    if(n>0):\n",
    "        m = m * n\n",
    "        n = n - 1\n",
    "        fac(n,m)\n",
    "    else:\n",
    "        print(m)\n",
    "m=1\n",
    "n = int(input(\"enter a number\"))\n",
    "a = fac(n,m)"
   ]
  },
  {
   "cell_type": "code",
   "execution_count": 170,
   "metadata": {},
   "outputs": [
    {
     "name": "stdout",
     "output_type": "stream",
     "text": [
      "enter lower limit10\n",
      "enter upper limit30\n",
      "2\n"
     ]
    }
   ],
   "source": [
    "s = 0\n",
    "def pal(x):\n",
    "    b = x%10\n",
    "    x=(x-b)//10\n",
    "    if(b != 0):\n",
    "        global s\n",
    "        s = (s * 10) + b\n",
    "        pal(x)\n",
    "\n",
    "c=0\n",
    "x = int(input(\"enter lower limit\"))\n",
    "y = int(input(\"enter upper limit\"))\n",
    "while(x<=y):\n",
    "    a = pal(x)\n",
    "    if(s == x):\n",
    "        c=c+1\n",
    "    x = x + 1\n",
    "    s = 0\n",
    "print(c)        "
   ]
  },
  {
   "cell_type": "code",
   "execution_count": null,
   "metadata": {},
   "outputs": [],
   "source": []
  }
 ],
 "metadata": {
  "kernelspec": {
   "display_name": "Python 3",
   "language": "python",
   "name": "python3"
  },
  "language_info": {
   "codemirror_mode": {
    "name": "ipython",
    "version": 3
   },
   "file_extension": ".py",
   "mimetype": "text/x-python",
   "name": "python",
   "nbconvert_exporter": "python",
   "pygments_lexer": "ipython3",
   "version": "3.7.3"
  }
 },
 "nbformat": 4,
 "nbformat_minor": 2
}
