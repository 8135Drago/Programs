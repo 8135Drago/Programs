{
 "cells": [
  {
   "cell_type": "code",
   "execution_count": 1,
   "metadata": {},
   "outputs": [
    {
     "name": "stdout",
     "output_type": "stream",
     "text": [
      "enter a number5\n",
      "120\n"
     ]
    }
   ],
   "source": [
    "def fac(n,m):\n",
    "    if(n>0):\n",
    "        m = m * n\n",
    "        n = n - 1\n",
    "        fac(n,m)\n",
    "    else:\n",
    "        print(m)\n",
    "m=1\n",
    "n = int(input(\"enter a number\"))\n",
    "a = fac(n,m)"
   ]
  },
  {
   "cell_type": "code",
   "execution_count": 6,
   "metadata": {},
   "outputs": [
    {
     "name": "stdout",
     "output_type": "stream",
     "text": [
      "enter a number2\n",
      "enter the power6\n",
      "64\n"
     ]
    }
   ],
   "source": [
    "def power(n,m,c):\n",
    "    if(c!=0):\n",
    "        m = m * n\n",
    "        c = c - 1\n",
    "        power(n,m,c)\n",
    "    else:\n",
    "        print(m)\n",
    "m = 1\n",
    "n = int(input(\"enter a number\"))\n",
    "c = int(input(\"enter the power\"))\n",
    "a = power(n,m,c)"
   ]
  },
  {
   "cell_type": "code",
   "execution_count": 21,
   "metadata": {},
   "outputs": [
    {
     "name": "stdout",
     "output_type": "stream",
     "text": [
      "enter position8\n",
      "21\n"
     ]
    }
   ],
   "source": [
    "def fib(i,n,a,b,c):\n",
    "    if(i<n-2):\n",
    "        c = a + b\n",
    "        i = i + 1\n",
    "        a = b\n",
    "        b = c\n",
    "        fib(i,n,a,b,c)\n",
    "    else:\n",
    "        if(n==1):\n",
    "            print(\"1\")\n",
    "        elif(n==2):\n",
    "            print(\"1\")\n",
    "        else:\n",
    "            print(c)\n",
    "a = 1\n",
    "b = 1\n",
    "c = 0\n",
    "n = int(input(\"enter position\"))\n",
    "i = 0\n",
    "z = fib(i,n,a,b,c)"
   ]
  },
  {
   "cell_type": "code",
   "execution_count": 35,
   "metadata": {},
   "outputs": [
    {
     "name": "stdout",
     "output_type": "stream",
     "text": [
      "enter a number15\n",
      "enter another number35\n",
      "5\n"
     ]
    }
   ],
   "source": [
    "def gcd(i,a,b,c):\n",
    "    if(i<=11):\n",
    "        if(a%i==0 and b%i==0):\n",
    "                c = i\n",
    "        i = i + 1\n",
    "        gcd(i,a,b,c)\n",
    "    else:\n",
    "        print(c)\n",
    "        \n",
    "i = 1\n",
    "c = 0\n",
    "a = int(input(\"enter a number\"))\n",
    "b = int(input(\"enter another number\"))\n",
    "z = gcd(i,a,b,c)"
   ]
  },
  {
   "cell_type": "code",
   "execution_count": null,
   "metadata": {},
   "outputs": [],
   "source": []
  }
 ],
 "metadata": {
  "kernelspec": {
   "display_name": "Python 3",
   "language": "python",
   "name": "python3"
  },
  "language_info": {
   "codemirror_mode": {
    "name": "ipython",
    "version": 3
   },
   "file_extension": ".py",
   "mimetype": "text/x-python",
   "name": "python",
   "nbconvert_exporter": "python",
   "pygments_lexer": "ipython3",
   "version": "3.7.3"
  }
 },
 "nbformat": 4,
 "nbformat_minor": 2
}
