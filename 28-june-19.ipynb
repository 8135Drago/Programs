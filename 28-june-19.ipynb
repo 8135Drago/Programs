{
 "cells": [
  {
   "cell_type": "code",
   "execution_count": null,
   "metadata": {},
   "outputs": [],
   "source": [
    "class d:\n",
    "    def test(self):\n",
    "        print(\"test\")\n",
    "    def fact(self,n):\n",
    "        fact = 1\n",
    "        while(n!=0):\n",
    "            fact = fact * n\n",
    "            n -= 1\n",
    "        print(fact)\n",
    "    def display(self,a,b):\n",
    "        print(\"a = \" , a)\n",
    "        print(\"b = \" , b)\n",
    "    def add(self,a,b):\n",
    "        print(\"sum = \" , a+b)\n",
    "x = -1\n",
    "while(x!=0):\n",
    "    x = int(input(\"enter choice\"))\n",
    "    if x == 1:\n",
    "        obj = d()\n",
    "        obj.test()\n",
    "    elif x == 2:\n",
    "        n = int(input(\"enter a number\"))\n",
    "        f = d()\n",
    "        f.fact(n)\n",
    "    elif x == 3:\n",
    "        a = int(input(\"enter a number\"))\n",
    "        b = int(input(\"enter another number\"))\n",
    "        c  = d()\n",
    "        c.display(a,b)\n",
    "    elif x == 4:\n",
    "        a = int(input(\"enter a number\"))\n",
    "        b = int(input(\"enter another number\"))\n",
    "        c  = d()\n",
    "        c.add(a,b)"
   ]
  },
  {
   "cell_type": "code",
   "execution_count": null,
   "metadata": {},
   "outputs": [],
   "source": [
    "#146140837"
   ]
  },
  {
   "cell_type": "code",
   "execution_count": null,
   "metadata": {},
   "outputs": [],
   "source": [
    "class person:\n",
    "    def __init__(self,name):\n",
    "        self.name = name\n",
    "    def getn(self):\n",
    "        return self.name\n",
    "    def ise(self):\n",
    "        return False\n",
    "class employee(person):\n",
    "    def ise(self):\n",
    "        return True\n",
    "name = input(\"enter name\")\n",
    "emp = person(name)\n",
    "print(emp.getn(),emp.ise())\n",
    "\n",
    "emp1 = employee(name)\n",
    "print(emp1.getn(),emp1.ise())\n"
   ]
  },
  {
   "cell_type": "code",
   "execution_count": null,
   "metadata": {},
   "outputs": [],
   "source": [
    "import numpy as n\n",
    "l = [1,2,3,4,1.65,2.05]\n",
    "a = n.array(l)\n",
    "print(a)\n",
    "print(a.shape)\n",
    "print(a.dtype)"
   ]
  },
  {
   "cell_type": "code",
   "execution_count": null,
   "metadata": {},
   "outputs": [],
   "source": [
    "import numpy as n\n",
    "a = n.array([(1,2,3),(4,5,6)])\n",
    "print(a)\n",
    "a.reshape(3,2)"
   ]
  },
  {
   "cell_type": "code",
   "execution_count": null,
   "metadata": {},
   "outputs": [],
   "source": [
    "a = n.array([1,2,3])\n",
    "b = n.array([4,5,6])\n",
    "print(n.hstack((a,b)))\n",
    "print(n.vstack((a,b)))"
   ]
  },
  {
   "cell_type": "code",
   "execution_count": null,
   "metadata": {},
   "outputs": [],
   "source": [
    "a = n.random.normal(5,0.5,10)\n",
    "print(a)"
   ]
  },
  {
   "cell_type": "code",
   "execution_count": null,
   "metadata": {},
   "outputs": [],
   "source": [
    "l = n.zeros((2,2),dtype=n.int64)\n",
    "print(l)"
   ]
  },
  {
   "cell_type": "code",
   "execution_count": null,
   "metadata": {},
   "outputs": [],
   "source": [
    "l = n.ones((4,3),dtype=n.int64)\n",
    "print(l)"
   ]
  },
  {
   "cell_type": "code",
   "execution_count": null,
   "metadata": {},
   "outputs": [],
   "source": [
    "a = n.matrix(n.ones((4,4),dtype = n.int64))\n",
    "n.asarray(a)[:,2] = 5\n",
    "print(a)"
   ]
  },
  {
   "cell_type": "code",
   "execution_count": null,
   "metadata": {},
   "outputs": [],
   "source": [
    "a = n.matrix(n.ones((4,4),dtype = n.int64))\n",
    "n.asarray(a)[2] = 5\n",
    "print(a)"
   ]
  },
  {
   "cell_type": "code",
   "execution_count": null,
   "metadata": {},
   "outputs": [],
   "source": [
    "a = n.matrix(n.ones((4,4),dtype = n.int64))\n",
    "n.asarray(a)[2][2] = 5\n",
    "print(a)"
   ]
  },
  {
   "cell_type": "code",
   "execution_count": null,
   "metadata": {},
   "outputs": [],
   "source": [
    "a = n.matrix(n.ones((4,4),dtype = n.int64))\n",
    "n.asarray(a)[:2] = 5\n",
    "print(a)"
   ]
  },
  {
   "cell_type": "code",
   "execution_count": null,
   "metadata": {},
   "outputs": [],
   "source": [
    "a = n.matrix(n.ones((4,4),dtype = n.int64))\n",
    "n.asarray(a)[2:] = 5\n",
    "print(a)"
   ]
  },
  {
   "cell_type": "code",
   "execution_count": null,
   "metadata": {},
   "outputs": [],
   "source": [
    "a = n.matrix(n.ones((4,4),dtype = n.int64))\n",
    "n.asarray(a)[::2] = 5\n",
    "print(a)"
   ]
  },
  {
   "cell_type": "code",
   "execution_count": null,
   "metadata": {},
   "outputs": [],
   "source": [
    "a = n.matrix(n.ones((4,4),dtype = n.int64))\n",
    "n.asarray(a)[:,2:] = 5\n",
    "print(a)"
   ]
  },
  {
   "cell_type": "code",
   "execution_count": null,
   "metadata": {},
   "outputs": [],
   "source": [
    "a = n.matrix(n.ones((4,4),dtype = n.int64))\n",
    "n.asarray(a)[:,::2] = 5\n",
    "print(a)"
   ]
  },
  {
   "cell_type": "code",
   "execution_count": null,
   "metadata": {},
   "outputs": [],
   "source": [
    "import numpy as n\n",
    "n.arange(1,100,9)"
   ]
  },
  {
   "cell_type": "code",
   "execution_count": null,
   "metadata": {},
   "outputs": [],
   "source": [
    "a = n.array([(1,2,3),(4,5,6)])\n",
    "print(\"s r = \" , a[:,1])"
   ]
  },
  {
   "cell_type": "code",
   "execution_count": null,
   "metadata": {},
   "outputs": [],
   "source": [
    "a = n.array([(1,2,3),(4,5,6)])\n",
    "print(\"s c = \" , a[:,2])"
   ]
  },
  {
   "cell_type": "code",
   "execution_count": null,
   "metadata": {},
   "outputs": [],
   "source": [
    "a = n.array([(1,2,3),(4,5,6)])\n",
    "print(\"s c = \" , a[1:,0])"
   ]
  },
  {
   "cell_type": "code",
   "execution_count": null,
   "metadata": {},
   "outputs": [],
   "source": [
    "a = n.random.normal(5,0.5,10)\n",
    "print(a)\n",
    "print(n.min(a))\n",
    "print(n.max(a))\n",
    "print(n.mean(a))\n",
    "print(n.median(a))"
   ]
  },
  {
   "cell_type": "code",
   "execution_count": null,
   "metadata": {},
   "outputs": [],
   "source": [
    "a = n.array([(1,2),(3,4)])\n",
    "b = n.array([(3,4),(1,2)])\n",
    "n.dot(a,b)"
   ]
  },
  {
   "cell_type": "code",
   "execution_count": null,
   "metadata": {},
   "outputs": [],
   "source": [
    "dict = {\"Name\":[\"a\",\"b\"] , \"Email\":[\"a@g.c\",\"b@g.c\"] , \"Contact\":[\"9\",\"8\"]}\n",
    "print(dict)"
   ]
  },
  {
   "cell_type": "code",
   "execution_count": null,
   "metadata": {},
   "outputs": [],
   "source": [
    "import pandas as p\n",
    "dict = {\"Name\":[\"a\",\"b\"] , \"Email\":[\"a@g.c\",\"b@g.c\"] , \"Contact\":[9,8]}\n",
    "b = p.DataFrame(dict)\n",
    "b.index = [\"01\" , \"02\"]\n",
    "print(b)"
   ]
  },
  {
   "cell_type": "code",
   "execution_count": null,
   "metadata": {},
   "outputs": [],
   "source": [
    "n = int(input(\"enter limit\"))\n",
    "a = []\n",
    "b = []\n",
    "c = []\n",
    "dict = {\"name\":a , \"email\":b , \"contact\":c}\n",
    "for i in range(0,n):\n",
    "    e = input(\"enter persons name\")\n",
    "    a.append(e)\n",
    "    f = input(\"enter persons email\")\n",
    "    b.append(f)\n",
    "    g = input(\"enter persons comtact\")\n",
    "    c.append(g)\n",
    "    i += 1 \n",
    "x = p.DataFrame(dict)\n",
    "print(x)"
   ]
  },
  {
   "cell_type": "code",
   "execution_count": 15,
   "metadata": {},
   "outputs": [
    {
     "name": "stdout",
     "output_type": "stream",
     "text": [
      "enter a string123aaa123\n",
      "     cnt\n",
      "num     \n",
      "0      0\n",
      "1      2\n",
      "2      2\n",
      "3      2\n",
      "4      0\n",
      "5      0\n",
      "6      0\n",
      "7      0\n",
      "8      0\n",
      "9      0\n"
     ]
    }
   ],
   "source": [
    "import pandas as p\n",
    "a = [\"0\",'1','2','3','4','5','6','7','8','9']\n",
    "b = ['0','0','0','0','0','0','0','0',\"0\",\"0\"]\n",
    "d = {\"num\":a , \"cnt\":b}\n",
    "s = input(\"enter a string\")\n",
    "lst = list(s)\n",
    "for e in lst:\n",
    "    if e.isnumeric():\n",
    "        a.append(e)\n",
    "        b.append(e)\n",
    "u = p.DataFrame(d)\n",
    "print(u.groupby([\"num\"]).count()-1)"
   ]
  },
  {
   "cell_type": "code",
   "execution_count": null,
   "metadata": {},
   "outputs": [],
   "source": []
  }
 ],
 "metadata": {
  "kernelspec": {
   "display_name": "Python 3",
   "language": "python",
   "name": "python3"
  },
  "language_info": {
   "codemirror_mode": {
    "name": "ipython",
    "version": 3
   },
   "file_extension": ".py",
   "mimetype": "text/x-python",
   "name": "python",
   "nbconvert_exporter": "python",
   "pygments_lexer": "ipython3",
   "version": "3.7.3"
  }
 },
 "nbformat": 4,
 "nbformat_minor": 2
}
