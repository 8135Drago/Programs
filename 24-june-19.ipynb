{
 "cells": [
  {
   "cell_type": "code",
   "execution_count": 2,
   "metadata": {},
   "outputs": [
    {
     "name": "stdout",
     "output_type": "stream",
     "text": [
      "enter limit5\n",
      "6\n"
     ]
    }
   ],
   "source": [
    "def even(n,i,s):\n",
    "    if(i!=n):\n",
    "        if(i%2==0):\n",
    "            s = s + i\n",
    "        i = i + 1\n",
    "        even(n,i,s)\n",
    "    else:\n",
    "        print(s)\n",
    "n = int(input(\"enter limit\"))\n",
    "i = 1\n",
    "s = 0\n",
    "even(n,i,s)"
   ]
  },
  {
   "cell_type": "code",
   "execution_count": 3,
   "metadata": {},
   "outputs": [
    {
     "name": "stdout",
     "output_type": "stream",
     "text": [
      "enter a number12\n",
      "1  \n",
      "2  \n",
      "3  \n",
      "4  \n",
      "6  \n"
     ]
    }
   ],
   "source": [
    "def fac(n,i):\n",
    "    if(i!=n):\n",
    "        if(n%i==0):\n",
    "            print(i,\" \")\n",
    "        i = i + 1\n",
    "        fac(n,i)\n",
    "n = int(input(\"enter a number\"))\n",
    "i = 1\n",
    "fac(n,i)"
   ]
  },
  {
   "cell_type": "code",
   "execution_count": 4,
   "metadata": {},
   "outputs": [
    {
     "name": "stdout",
     "output_type": "stream",
     "text": [
      "[1, 2, 3, 4, 5]\n",
      "1\n"
     ]
    }
   ],
   "source": [
    "lis = [1,2,3,4,5]\n",
    "print(lis)\n",
    "print(lis[0])"
   ]
  },
  {
   "cell_type": "code",
   "execution_count": 5,
   "metadata": {},
   "outputs": [
    {
     "name": "stdout",
     "output_type": "stream",
     "text": [
      "a  \n",
      "b  \n",
      "c  \n",
      "d  \n"
     ]
    }
   ],
   "source": [
    "lit = [\"a\",\"b\",\"c\",\"d\"]\n",
    "for n in (lit):\n",
    "    print(n , \" \")"
   ]
  },
  {
   "cell_type": "code",
   "execution_count": 6,
   "metadata": {},
   "outputs": [
    {
     "name": "stdout",
     "output_type": "stream",
     "text": [
      "2 4 1.6 5 7 \n",
      "[4, 1.6, 5]\n",
      "[1.6, 5, 7]\n",
      "[2, 5]\n",
      "[7, 4]\n"
     ]
    }
   ],
   "source": [
    "i = [2,4,1.6,5,7]\n",
    "for n in (i):\n",
    "    print(n ,end = \" \")\n",
    "print()\n",
    "print(i[1:-1])\n",
    "print(i[2:6])\n",
    "print(i[::3])\n",
    "print(i[::-3])"
   ]
  },
  {
   "cell_type": "code",
   "execution_count": 7,
   "metadata": {},
   "outputs": [
    {
     "name": "stdout",
     "output_type": "stream",
     "text": [
      "[0, 1, 2, 3, 4, 5, 6, 7, 8, 9]\n"
     ]
    }
   ],
   "source": [
    "n = list(range(10))\n",
    "print(n)"
   ]
  },
  {
   "cell_type": "code",
   "execution_count": 19,
   "metadata": {},
   "outputs": [
    {
     "name": "stdout",
     "output_type": "stream",
     "text": [
      "['a', 'b', 'c', 'd']\n",
      "['a', 'b', 15, 'd']\n",
      "['a', 'b', 15]\n",
      "['a', 'gitam', 15]\n",
      "[1, 2, 3]\n",
      "['a', 'gitam', 15, 1, 2, 3]\n",
      "['a', 'gitam', 15, 2]\n",
      "1\n",
      "4\n"
     ]
    }
   ],
   "source": [
    "l1 = [\"a\",\"b\",\"c\",\"d\"]\n",
    "print(l1)\n",
    "l1[2] = 15\n",
    "print(l1)\n",
    "del l1[3]\n",
    "print(l1)\n",
    "l1[1] = \"gitam\"\n",
    "print(l1)\n",
    "l2 = [1,2,3]\n",
    "print(l2)\n",
    "print(l1 + l2)\n",
    "l1.append(2) \n",
    "print(l1)\n",
    "print(l2.count(1))\n",
    "print(len(l1))"
   ]
  },
  {
   "cell_type": "code",
   "execution_count": 36,
   "metadata": {},
   "outputs": [
    {
     "name": "stdout",
     "output_type": "stream",
     "text": [
      "8\n",
      "['a', 'b', 100, 5, 'c', 'd', 1, 2, 100]\n",
      "9\n",
      "['a', 'b', 5, 'c', 'd', 1, 2, 100]\n",
      "8\n",
      "[100, 2, 1, 'd', 'c', 5, 'b', 'a']\n"
     ]
    }
   ],
   "source": [
    "l1 = [\"a\",\"b\",5,\"c\",\"d\",1,2,100]\n",
    "l1.index(\"a\")\n",
    "l1.index(1)\n",
    "print(len(l1))\n",
    "l1.insert(2,100)\n",
    "print(l1)\n",
    "print(len(l1))\n",
    "l1.remove(100)\n",
    "print(l1)\n",
    "print(len(l1))\n",
    "l1.reverse()\n",
    "print(l1)"
   ]
  },
  {
   "cell_type": "code",
   "execution_count": 4,
   "metadata": {},
   "outputs": [
    {
     "name": "stdout",
     "output_type": "stream",
     "text": [
      "enter size3\n",
      "enter a number1\n",
      "enter a number2\n",
      "enter a number3\n",
      "enter a number to search5\n",
      "number not found\n"
     ]
    }
   ],
   "source": [
    "n = int(input(\"enter size\"))\n",
    "c = 0\n",
    "l = [0]\n",
    "for i in range(0,n):\n",
    "    a = int(input(\"enter a number\"))\n",
    "    l.insert(i,a)\n",
    "q = int(input(\"enter a number to search\"))\n",
    "for i in range(0,n):\n",
    "    if(l[i]==q):\n",
    "        c=i\n",
    "        print(\"number found at \" , c)\n",
    "if(c<=0):\n",
    "    print(\"number not found\")"
   ]
  },
  {
   "cell_type": "code",
   "execution_count": 6,
   "metadata": {},
   "outputs": [
    {
     "name": "stdout",
     "output_type": "stream",
     "text": [
      "enter size8\n",
      "enter a number1\n",
      "enter a number5\n",
      "enter a number9\n",
      "enter a number6\n",
      "enter a number5\n",
      "enter a number15\n",
      "enter a number12\n",
      "enter a number5\n",
      "enter a number to search5\n",
      "!! !!!!! !!!!!!!! "
     ]
    }
   ],
   "source": [
    "n = int(input(\"enter size\"))\n",
    "c = 0\n",
    "x=0\n",
    "l = [0]\n",
    "for i in range(0,n):\n",
    "    a = int(input(\"enter a number\"))\n",
    "    l.insert(i,a)\n",
    "q = int(input(\"enter a number to search\"))\n",
    "for i in range(0,n):\n",
    "    if(l[i]==q):\n",
    "        c=i\n",
    "        while(x<=c):\n",
    "            print(\"!\",end = \"\")\n",
    "            x+=1\n",
    "        print(\" \", end = \"\")\n",
    "        x=0\n",
    "if(c<=0):\n",
    "    print(\"number not found\")"
   ]
  },
  {
   "cell_type": "code",
   "execution_count": 11,
   "metadata": {},
   "outputs": [
    {
     "name": "stdout",
     "output_type": "stream",
     "text": [
      "enter size7\n",
      "enter a number15\n",
      "enter a number12\n",
      "enter a number2\n",
      "enter a number9\n",
      "enter a number18\n",
      "enter a number36\n",
      "enter a number45\n",
      "sum = 60\n"
     ]
    }
   ],
   "source": [
    "n = int(input(\"enter size\"))\n",
    "c = 0\n",
    "l = [0]\n",
    "for i in range(0,n):\n",
    "    a = int(input(\"enter a number\"))\n",
    "    l.insert(i,a)\n",
    "for i in range(0,n):\n",
    "    if(l[i]%3==0 and l[i]%5==0):\n",
    "        c = c + l[i]\n",
    "print(\"sum =\",c) "
   ]
  },
  {
   "cell_type": "code",
   "execution_count": 32,
   "metadata": {},
   "outputs": [
    {
     "name": "stdout",
     "output_type": "stream",
     "text": [
      "enter size5\n",
      "enter a number1\n",
      "enter a number2\n",
      "enter a number3\n",
      "enter a number4\n",
      "enter a number5\n",
      "1 3 8 15 5 "
     ]
    }
   ],
   "source": [
    "n = int(input(\"enter size\"))\n",
    "c = 0\n",
    "l = []\n",
    "b = []\n",
    "for i in range(0,n):\n",
    "    a = int(input(\"enter a number\"))\n",
    "    l.insert(i,a)\n",
    "    b.insert(i,a)\n",
    "    \n",
    "for i in range(1,n-1):\n",
    "    b[i] = l[i-1]*l[i+1]\n",
    "for i in range(0,n):\n",
    "    print(b[i], end = \" \")"
   ]
  },
  {
   "cell_type": "code",
   "execution_count": 34,
   "metadata": {},
   "outputs": [
    {
     "name": "stdout",
     "output_type": "stream",
     "text": [
      "enter size7\n",
      "enter a number1\n",
      "enter a number6\n",
      "enter a number9\n",
      "enter a number4\n",
      "enter a number16\n",
      "enter a number19\n",
      "enter a number22\n",
      "1 9 19 22\n"
     ]
    }
   ],
   "source": [
    "n = int(input(\"enter size\"))\n",
    "c = 0\n",
    "l = []\n",
    "for i in range(0,n):\n",
    "    a = int(input(\"enter a number\"))\n",
    "    l.insert(i,a)\n",
    "print(l[0],end = \" \")\n",
    "for i in range(1,n-1):\n",
    "    if(l[i-1]%2==0 and l[i+1]%2==0):\n",
    "        print(l[i],end = \" \")\n",
    "print(l[n-1])    "
   ]
  },
  {
   "cell_type": "code",
   "execution_count": 53,
   "metadata": {},
   "outputs": [
    {
     "name": "stdout",
     "output_type": "stream",
     "text": [
      "enter a number14569\n",
      "[1, 4, 5, 6, 9]\n"
     ]
    }
   ],
   "source": [
    "n = int(input(\"enter a number\"))\n",
    "l = []\n",
    "i = 0 \n",
    "for i in range(0,n-1):\n",
    "    if(n!=0):\n",
    "        b = n % 10\n",
    "        n = (n-b)//10\n",
    "        l.insert(i,b)\n",
    "        i += 1\n",
    "l.reverse()\n",
    "print(l)"
   ]
  },
  {
   "cell_type": "code",
   "execution_count": 60,
   "metadata": {},
   "outputs": [
    {
     "name": "stdout",
     "output_type": "stream",
     "text": [
      "enter size4\n",
      "enter a number1\n",
      "enter a number2\n",
      "enter a number3\n",
      "enter a number4\n",
      "1234\n"
     ]
    }
   ],
   "source": [
    "n = int(input(\"enter size\"))\n",
    "l = []\n",
    "s = 0\n",
    "for i in range(0,n):\n",
    "    a = int(input(\"enter a number\"))\n",
    "    l.insert(i,a)\n",
    "for i in range(0,n):\n",
    "    s = (s * 10)+l[i]\n",
    "print(s)"
   ]
  },
  {
   "cell_type": "code",
   "execution_count": 63,
   "metadata": {},
   "outputs": [
    {
     "name": "stdout",
     "output_type": "stream",
     "text": [
      "enter size4\n",
      "enter choice2\n",
      "enter a number1\n",
      "enter a number2\n",
      "enter a number3\n",
      "enter a number4\n",
      "13\n"
     ]
    }
   ],
   "source": [
    "n = int(input(\"enter size\"))\n",
    "l = []\n",
    "s = 0\n",
    "m = 0\n",
    "c = int(input(\"enter choice\"))\n",
    "for i in range(0,n):\n",
    "    a = int(input(\"enter a number\"))\n",
    "    l.insert(i,a)\n",
    "for i in range(0,n):\n",
    "    if(l[i]%2==0):\n",
    "        s = (s * 10)+l[i]\n",
    "    else:\n",
    "        m = (m * 10)+l[i]\n",
    "if(c==1):\n",
    "    print(s)\n",
    "elif(c==2):\n",
    "    print(m)"
   ]
  },
  {
   "cell_type": "code",
   "execution_count": null,
   "metadata": {},
   "outputs": [],
   "source": []
  }
 ],
 "metadata": {
  "kernelspec": {
   "display_name": "Python 3",
   "language": "python",
   "name": "python3"
  },
  "language_info": {
   "codemirror_mode": {
    "name": "ipython",
    "version": 3
   },
   "file_extension": ".py",
   "mimetype": "text/x-python",
   "name": "python",
   "nbconvert_exporter": "python",
   "pygments_lexer": "ipython3",
   "version": "3.7.3"
  }
 },
 "nbformat": 4,
 "nbformat_minor": 2
}
