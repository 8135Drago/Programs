{
 "cells": [
  {
   "cell_type": "code",
   "execution_count": 1,
   "metadata": {},
   "outputs": [
    {
     "name": "stdout",
     "output_type": "stream",
     "text": [
      "enter choice7\n",
      "enter file name.extensionfile.txt\n",
      "no.of lines = 2\n",
      "enter choice0\n"
     ]
    }
   ],
   "source": [
    "def cf(name):\n",
    "    f = open(name,\"w\")\n",
    "    l = int(input(\"enter limit i.e. no.of lines\"))\n",
    "    for i in range(l):\n",
    "        e = input(\"enter %d line:\\n\" % i)\n",
    "        f.write(\"%s \\n\" % e)\n",
    "    print(\"file is successfully created\")\n",
    "    f.close()\n",
    "def rf(fn):\n",
    "    f = open(fn,\"r\")\n",
    "    if f.mode == \"r\":\n",
    "        x = f.read()\n",
    "        print(x)\n",
    "    f.close()\n",
    "def af(name):\n",
    "    f = open(name,\"a\")\n",
    "    l = int(input(\"enter no.of lines\"))\n",
    "    for i in range (l):\n",
    "        e = input(\"enter %d line:\" % i)\n",
    "        f.write(\"%s \\n\" % e)\n",
    "    print(\"file sucessfully created\")\n",
    "    f.close()\n",
    "def wc(name,word):\n",
    "    f = open(name,\"r\")\n",
    "    if f.mode == \"r\":\n",
    "        x = f.read()\n",
    "        lst = x.split()\n",
    "    c = lst.count(word)\n",
    "    print(\"The word is repeated %d times\" % c)\n",
    "def cc(name,l):\n",
    "    f = open(name,\"r\")\n",
    "    if f.mode == \"r\":\n",
    "        x = f.read()\n",
    "        li = list(x)\n",
    "        cnt = len(li)\n",
    "    print(\"no.of charecters are %d\" % cnt-l)\n",
    "def uc(name):\n",
    "    c = 0\n",
    "    f = open(name,\"r\")\n",
    "    if f.mode == \"r\":\n",
    "        x = f.read()\n",
    "        lis = list(x)\n",
    "        for j in lis:\n",
    "            if ord(j)>=65 and ord(j)<=90:\n",
    "                c = c+1\n",
    "    print(\"no.of uppercase letters = %d\" % c)\n",
    "def nc(name):\n",
    "    c = 0\n",
    "    f = open(name,\"r\")\n",
    "    if f.mode == \"r\":\n",
    "        x = f.read()\n",
    "        lis = list(x)\n",
    "        for j in lis:\n",
    "            if ord(j) == 10:\n",
    "                c = c+1\n",
    "    print(\"no.of lines = %d\" % c)\n",
    "x = -1\n",
    "while x!=0:\n",
    "    x = int(input(\"enter choice\"))\n",
    "    if x == 1:\n",
    "        name = input(\"enter file name.extension\")\n",
    "        cf(name)\n",
    "    elif x == 2:\n",
    "        name = input(\"enter file name.extension\")\n",
    "        rf(name)\n",
    "    elif x == 3:\n",
    "        name = input(\"enter file name.extension\")\n",
    "        af(name)\n",
    "    elif x == 4:\n",
    "        name = input(\"enter file name.extension\")\n",
    "        word = input(\"enter the word\")\n",
    "        wc(name,word)\n",
    "    elif x == 5:\n",
    "        name = input(\"enter file name.extension\")\n",
    "        cc(name)\n",
    "    elif x == 6:\n",
    "        name = input(\"enter file name.extension\")\n",
    "        uc(name)\n",
    "    elif x == 7:\n",
    "        name = input(\"enter file name.extension\")\n",
    "        nc(name)"
   ]
  },
  {
   "cell_type": "code",
   "execution_count": 25,
   "metadata": {},
   "outputs": [
    {
     "name": "stdout",
     "output_type": "stream",
     "text": [
      "enter a phone number+918423657815\n",
      "its phone number\n"
     ]
    }
   ],
   "source": [
    "def tph(num):\n",
    "    l = list(num)\n",
    "    c = len(l)\n",
    "    if num.isnumeric() or ord(l[0]) == 43:\n",
    "        if (ord(l[0])>=54 and c == 10 or c == 8) or (c == 11 and ord(l[0]) == 48 and ord(l[1]) >= 54) or (c == 13 and ord(l[0]) == 43 and ord(l[1]) == 57 and ord(l[2]) == 49):\n",
    "            print(\"its phone number\")\n",
    "        else:\n",
    "            print(\"not a valid number\")\n",
    "num = input(\"enter a phone number\")\n",
    "tph(num)"
   ]
  },
  {
   "cell_type": "code",
   "execution_count": 19,
   "metadata": {},
   "outputs": [
    {
     "name": "stdout",
     "output_type": "stream",
     "text": [
      "enter a phone number+918456321578\n",
      "valid\n"
     ]
    }
   ],
   "source": [
    "import re\n",
    "def pv(num):\n",
    "    p = \"^[6-9][0-9]{9}$|^[0][6-9][0-9]{9}$|^[+][9][1][6-9][0-9]{9}$\"\n",
    "    num = str(num)\n",
    "    if re.match(p,num):\n",
    "        print(\"valid\")\n",
    "    else:\n",
    "        print(\"invalid\")\n",
    "num = input(\"enter a phone number\")\n",
    "pv(num)"
   ]
  },
  {
   "cell_type": "code",
   "execution_count": 26,
   "metadata": {},
   "outputs": [
    {
     "name": "stdout",
     "output_type": "stream",
     "text": [
      "enter roll number152U1A0852\n",
      "valid\n"
     ]
    }
   ],
   "source": [
    "import re\n",
    "def rn(n):\n",
    "    p = \"^[1][5][2][U][1][A][0][1-9][0-6][0-9]$\"\n",
    "    if re.match(p,n):\n",
    "        print(\"valid\")\n",
    "    else:\n",
    "        print(\"invalid\")\n",
    "n = input(\"enter roll number\")\n",
    "rn(n)"
   ]
  },
  {
   "cell_type": "code",
   "execution_count": 33,
   "metadata": {},
   "outputs": [
    {
     "name": "stdout",
     "output_type": "stream",
     "text": [
      "enter mail id8135rack@gmail.com\n",
      "valid\n"
     ]
    }
   ],
   "source": [
    "import re\n",
    "def ei(m):\n",
    "    p = \"^[0-9a-zA-Z][0-9a-zA-Z_.]{2,13}[0-9a-zA-Z][@][0-9a-z]{3,18}[.][a-z]{2,4}$\"\n",
    "    if re.match(p,m):\n",
    "        print(\"valid\")\n",
    "    else:\n",
    "        print(\"invalid\")\n",
    "m = input(\"enter mail id\")\n",
    "ei(m)"
   ]
  },
  {
   "cell_type": "code",
   "execution_count": 43,
   "metadata": {},
   "outputs": [
    {
     "name": "stdout",
     "output_type": "stream",
     "text": [
      "enter passwordvid#5846\n",
      "valid\n"
     ]
    }
   ],
   "source": [
    "import re\n",
    "def pas(pa):\n",
    "    paa = \"^[0-9a-zA-Z!@_#$]{8,20}$\"\n",
    "    if re.match(paa,pa):\n",
    "        print(\"valid\")\n",
    "    else:\n",
    "        print(\"invalid\")\n",
    "pa = input(\"enter password\")\n",
    "pas(pa)N"
   ]
  },
  {
   "cell_type": "code",
   "execution_count": null,
   "metadata": {},
   "outputs": [],
   "source": []
  }
 ],
 "metadata": {
  "kernelspec": {
   "display_name": "Python 3",
   "language": "python",
   "name": "python3"
  },
  "language_info": {
   "codemirror_mode": {
    "name": "ipython",
    "version": 3
   },
   "file_extension": ".py",
   "mimetype": "text/x-python",
   "name": "python",
   "nbconvert_exporter": "python",
   "pygments_lexer": "ipython3",
   "version": "3.7.3"
  }
 },
 "nbformat": 4,
 "nbformat_minor": 2
}
