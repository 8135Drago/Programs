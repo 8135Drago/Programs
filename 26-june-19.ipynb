{
 "cells": [
  {
   "cell_type": "code",
   "execution_count": null,
   "metadata": {},
   "outputs": [],
   "source": [
    "strn = \"abcd\"\n",
    "print(strn.upper())"
   ]
  },
  {
   "cell_type": "code",
   "execution_count": null,
   "metadata": {},
   "outputs": [],
   "source": [
    "strn = \"ABCD\"\n",
    "print(strn.lower())"
   ]
  },
  {
   "cell_type": "code",
   "execution_count": null,
   "metadata": {},
   "outputs": [],
   "source": [
    "s = \"ABCD\"\n",
    "s1 = \"AbCd\"\n",
    "s2 = \"abcd\"\n",
    "print(s.isupper())\n",
    "print(s.islower())\n",
    "print(s1.isupper())\n",
    "print(s1.islower())\n",
    "print(s2.isupper())\n",
    "print(s2.islower())"
   ]
  },
  {
   "cell_type": "code",
   "execution_count": null,
   "metadata": {},
   "outputs": [],
   "source": [
    "s = \"a123\"\n",
    "s1 = \"1234\"\n",
    "print(s.isnumeric())\n",
    "print(s1.isnumeric())"
   ]
  },
  {
   "cell_type": "code",
   "execution_count": null,
   "metadata": {},
   "outputs": [],
   "source": [
    "s = \"a123\"\n",
    "s1 = \"abcd\"\n",
    "print(s.isalpha())\n",
    "print(s1.isalpha())"
   ]
  },
  {
   "cell_type": "code",
   "execution_count": null,
   "metadata": {},
   "outputs": [],
   "source": [
    "s = \"Ab Cd\"\n",
    "s1 = \"ab cd\"\n",
    "print(s.istitle())\n",
    "print(s1.istitle())"
   ]
  },
  {
   "cell_type": "code",
   "execution_count": null,
   "metadata": {},
   "outputs": [],
   "source": [
    "s = \" \"\n",
    "s1 = \"abcd\"\n",
    "print(s.isspace())\n",
    "print(s1.isspace())"
   ]
  },
  {
   "cell_type": "code",
   "execution_count": null,
   "metadata": {},
   "outputs": [],
   "source": [
    "s = \"AbCd\"\n",
    "s1 = \"abcd\"\n",
    "print(\"    \".join(s1))\n",
    "print(\"    \".join(s))\n",
    "#joining with space"
   ]
  },
  {
   "cell_type": "code",
   "execution_count": null,
   "metadata": {},
   "outputs": [],
   "source": [
    "s = \"Ab Cd\"\n",
    "s1 = \"ab cd\"\n",
    "print(s.split())\n",
    "print(s1.split(\"b\"))"
   ]
  },
  {
   "cell_type": "code",
   "execution_count": null,
   "metadata": {},
   "outputs": [],
   "source": [
    "s = \"Ab Cd\"\n",
    "s1 = \"abcd\"\n",
    "print(s.index(\"d\"))\n",
    "print(s1.index(\"b\"))"
   ]
  },
  {
   "cell_type": "code",
   "execution_count": null,
   "metadata": {},
   "outputs": [],
   "source": [
    "s = \"Ab Cd\"\n",
    "s1 = \"abcd\"\n",
    "print(s.replace(\"d\" , \"D\"))\n",
    "print(s1.replace(\"b\" , \"B\"))"
   ]
  },
  {
   "cell_type": "code",
   "execution_count": null,
   "metadata": {},
   "outputs": [],
   "source": [
    "t = (\"a\",\"b\",1,2,3)\n",
    "print(t[0])\n",
    "print(t[-1])\n",
    "print(t[1:3])\n",
    "print(t[::-1])\n",
    "print(t[0:4:2])\n",
    "print(t[::-2])"
   ]
  },
  {
   "cell_type": "code",
   "execution_count": null,
   "metadata": {},
   "outputs": [],
   "source": [
    "x = (\"a\",\"b\")\n",
    "y = (\"c\",\"d\")\n",
    "z = x + y\n",
    "print(z)"
   ]
  },
  {
   "cell_type": "code",
   "execution_count": null,
   "metadata": {},
   "outputs": [],
   "source": [
    "x = (\"a\",\"b\")\n",
    "y = (\"c\",\"d\")\n",
    "z = x + y\n",
    "print(len(x))\n",
    "print(len(y))\n",
    "print(len(z))\n",
    "print(max(x))\n",
    "print(max(y))\n",
    "print(max(z))\n",
    "print(min(x))\n",
    "print(min(y))\n",
    "print(min(z))"
   ]
  },
  {
   "cell_type": "code",
   "execution_count": null,
   "metadata": {},
   "outputs": [],
   "source": [
    "l = [1,2,3,4]\n",
    "t = tuple(l)\n",
    "print(t)"
   ]
  },
  {
   "cell_type": "code",
   "execution_count": null,
   "metadata": {},
   "outputs": [],
   "source": [
    "user_1 = {\"Name\":\"abcd\",\"Age\":26,\"EmailID\":'abcd@gmail.com',\"Contact\":9999999999}\n",
    "print(user_1[\"Name\"])\n",
    "print(user_1[\"EmailID\"])\n",
    "print(user_1[\"Age\"])\n",
    "print(user_1[\"Contact\"])\n",
    "user_1[\"Address\"] = \"Milkyway\"\n",
    "print(user_1[\"Address\"])"
   ]
  },
  {
   "cell_type": "code",
   "execution_count": null,
   "metadata": {},
   "outputs": [],
   "source": [
    "user_1 = {\"Name\":\"abcd\",\"Age\":26,\"EmailID\":'abcd@gmail.com',\"Contact\":9999999999}\n",
    "del user_1[\"EmailID\"]\n",
    "user_1.clear()\n",
    "print(user_1)"
   ]
  },
  {
   "cell_type": "code",
   "execution_count": null,
   "metadata": {},
   "outputs": [],
   "source": [
    "user_1 = {\"Name\":\"abcd\",\"Age\":26,\"EmailID\":'abcd@gmail.com',\"Contact\":9999999999}\n",
    "user_2 = user_1.copy()\n",
    "print(len(user_1))\n",
    "s = str(user_2)\n",
    "print(s)"
   ]
  },
  {
   "cell_type": "code",
   "execution_count": null,
   "metadata": {},
   "outputs": [],
   "source": [
    "l = [\"a\",\"b\"]\n",
    "print(\"%s %s\"%(l[0],l[1]))"
   ]
  },
  {
   "cell_type": "code",
   "execution_count": null,
   "metadata": {},
   "outputs": [],
   "source": [
    "l = [\"a\",\"b\"]\n",
    "print(\"{0} {1}\".format(l[0],l[1]))"
   ]
  },
  {
   "cell_type": "code",
   "execution_count": 2,
   "metadata": {},
   "outputs": [
    {
     "name": "stdout",
     "output_type": "stream",
     "text": [
      "enter choice1\n",
      "enter a nameabc\n",
      "enter the number123\n",
      "contact abc added\n",
      "enter choice1\n",
      "enter a nameb\n",
      "enter the number2\n",
      "contact b added\n",
      "enter choice1\n",
      "enter a namec\n",
      "enter the number23\n",
      "contact c added\n",
      "enter choice4\n",
      "enter nameabc\n",
      "enter choice2\n",
      "enter the name of the contactabc\n",
      "contact abc doesnot exist\n",
      "enter choice0\n",
      "{'b': 2, 'c': 23}\n"
     ]
    }
   ],
   "source": [
    "contacts = {}\n",
    "def addc(name,contact):\n",
    "    if name not in contacts:\n",
    "        contacts[name] = contact\n",
    "        print(\"contact %s added\" % name)\n",
    "    else:\n",
    "        print(\"contact %s already exists\" % name)\n",
    "def searchc(name):\n",
    "    if name not in contacts:\n",
    "        print(\"contact %s doesnot exist\" % name)\n",
    "    else:\n",
    "        print(name , \":\" , contacts[name])\n",
    "def ic(q,e):\n",
    "    if q not in contacts:\n",
    "        print(\"contact %s doesnot exist\" % name)\n",
    "    else:\n",
    "        contacts[q] = e\n",
    "        print(len(contacts.keys()) , \"contacts updated\")\n",
    "    \n",
    "def dc(n1):\n",
    "    if n1 not in contacts:\n",
    "        print(\"contact %s doesnot exist\" % name)\n",
    "    else:\n",
    "        del contacts[n1]\n",
    "\n",
    "x = -1\n",
    "while(x!=0):\n",
    "    x = int(input(\"enter choice\"))\n",
    "    if(x==1):\n",
    "        n = input(\"enter a name\")\n",
    "        c = int(input(\"enter the number\"))\n",
    "        addc(n,c)\n",
    "    elif(x==2):\n",
    "        n = input(\"enter the name of the contact\")\n",
    "        searchc(n)\n",
    "    elif(x==3):\n",
    "        q = input(\"enter name\")\n",
    "        e = int(input(\"enter number\"))\n",
    "        ic(q,e)\n",
    "    elif(x==4):\n",
    "        n1 = input(\"enter name\")\n",
    "        dc(n1)\n",
    "print(contacts)"
   ]
  },
  {
   "cell_type": "code",
   "execution_count": 4,
   "metadata": {},
   "outputs": [
    {
     "name": "stdout",
     "output_type": "stream",
     "text": [
      "enter limit10\n",
      "enter lower limit12\n",
      "enter upper limit120\n",
      "89 113 108 17 111 106 35 41 72 84 "
     ]
    }
   ],
   "source": [
    "import random as r\n",
    "def grn(n,l,u):\n",
    "    for i in range(0,n):\n",
    "        print(r.randint(l,u) , end = \" \")\n",
    "n = int(input(\"enter limit\"))\n",
    "l = int(input(\"enter lower limit\"))\n",
    "u = int(input(\"enter upper limit\"))\n",
    "grn(n,l,u)"
   ]
  },
  {
   "cell_type": "code",
   "execution_count": 11,
   "metadata": {},
   "outputs": [],
   "source": [
    "#195674709"
   ]
  },
  {
   "cell_type": "code",
   "execution_count": 13,
   "metadata": {},
   "outputs": [
    {
     "name": "stdout",
     "output_type": "stream",
     "text": [
      "12\n"
     ]
    },
    {
     "data": {
      "text/plain": [
       "120"
      ]
     },
     "execution_count": 13,
     "metadata": {},
     "output_type": "execute_result"
    }
   ],
   "source": [
    "import math as m\n",
    "print(m.floor(12.6849))\n",
    "m.factorial(5)"
   ]
  },
  {
   "cell_type": "code",
   "execution_count": null,
   "metadata": {},
   "outputs": [],
   "source": []
  }
 ],
 "metadata": {
  "kernelspec": {
   "display_name": "Python 3",
   "language": "python",
   "name": "python3"
  },
  "language_info": {
   "codemirror_mode": {
    "name": "ipython",
    "version": 3
   },
   "file_extension": ".py",
   "mimetype": "text/x-python",
   "name": "python",
   "nbconvert_exporter": "python",
   "pygments_lexer": "ipython3",
   "version": "3.7.3"
  }
 },
 "nbformat": 4,
 "nbformat_minor": 2
}
